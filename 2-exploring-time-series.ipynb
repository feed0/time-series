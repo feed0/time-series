{
 "cells": [
  {
   "cell_type": "code",
   "execution_count": null,
   "id": "22fa8ef9",
   "metadata": {},
   "outputs": [
    {
     "name": "stdout",
     "output_type": "stream",
     "text": [
      "Requirement already satisfied: statsmodels in /usr/local/python/3.12.1/lib/python3.12/site-packages (0.14.5)\n",
      "Requirement already satisfied: numpy<3,>=1.22.3 in /home/codespace/.local/lib/python3.12/site-packages (from statsmodels) (2.3.1)\n",
      "Requirement already satisfied: scipy!=1.9.2,>=1.8 in /home/codespace/.local/lib/python3.12/site-packages (from statsmodels) (1.16.0)\n",
      "Requirement already satisfied: pandas!=2.1.0,>=1.4 in /home/codespace/.local/lib/python3.12/site-packages (from statsmodels) (2.3.1)\n",
      "Requirement already satisfied: patsy>=0.5.6 in /usr/local/python/3.12.1/lib/python3.12/site-packages (from statsmodels) (1.0.1)\n",
      "Requirement already satisfied: packaging>=21.3 in /home/codespace/.local/lib/python3.12/site-packages (from statsmodels) (25.0)\n",
      "Requirement already satisfied: python-dateutil>=2.8.2 in /home/codespace/.local/lib/python3.12/site-packages (from pandas!=2.1.0,>=1.4->statsmodels) (2.9.0.post0)\n",
      "Requirement already satisfied: pytz>=2020.1 in /home/codespace/.local/lib/python3.12/site-packages (from pandas!=2.1.0,>=1.4->statsmodels) (2025.2)\n",
      "Requirement already satisfied: tzdata>=2022.7 in /home/codespace/.local/lib/python3.12/site-packages (from pandas!=2.1.0,>=1.4->statsmodels) (2025.2)\n",
      "Requirement already satisfied: six>=1.5 in /home/codespace/.local/lib/python3.12/site-packages (from python-dateutil>=2.8.2->pandas!=2.1.0,>=1.4->statsmodels) (1.17.0)\n",
      "\n",
      "\u001b[1m[\u001b[0m\u001b[34;49mnotice\u001b[0m\u001b[1;39;49m]\u001b[0m\u001b[39;49m A new release of pip is available: \u001b[0m\u001b[31;49m25.1.1\u001b[0m\u001b[39;49m -> \u001b[0m\u001b[32;49m25.2\u001b[0m\n",
      "\u001b[1m[\u001b[0m\u001b[34;49mnotice\u001b[0m\u001b[1;39;49m]\u001b[0m\u001b[39;49m To update, run: \u001b[0m\u001b[32;49mpython -m pip install --upgrade pip\u001b[0m\n",
      "Note: you may need to restart the kernel to use updated packages.\n"
     ]
    }
   ],
   "source": [
    "# %pip install statsmodels"
   ]
  },
  {
   "cell_type": "code",
   "execution_count": 4,
   "id": "20a6e894",
   "metadata": {},
   "outputs": [],
   "source": [
    "import numpy as np\n",
    "import pandas as pd\n",
    "import matplotlib.pyplot as plt\n",
    "import seaborn as sns\n",
    "\n",
    "from statsmodels.datasets import sunspots"
   ]
  },
  {
   "cell_type": "code",
   "execution_count": 5,
   "id": "224ff7a5",
   "metadata": {},
   "outputs": [
    {
     "data": {
      "application/vnd.microsoft.datawrangler.viewer.v0+json": {
       "columns": [
        {
         "name": "index",
         "rawType": "int64",
         "type": "integer"
        },
        {
         "name": "SUNACTIVITY",
         "rawType": "float64",
         "type": "float"
        }
       ],
       "ref": "0632757b-7d64-4112-98f9-49b64eeaa0d7",
       "rows": [
        [
         "0",
         "5.0"
        ],
        [
         "1",
         "11.0"
        ],
        [
         "2",
         "16.0"
        ],
        [
         "3",
         "23.0"
        ],
        [
         "4",
         "36.0"
        ]
       ],
       "shape": {
        "columns": 1,
        "rows": 5
       }
      },
      "text/plain": [
       "0     5.0\n",
       "1    11.0\n",
       "2    16.0\n",
       "3    23.0\n",
       "4    36.0\n",
       "Name: SUNACTIVITY, dtype: float64"
      ]
     },
     "metadata": {},
     "output_type": "display_data"
    },
    {
     "name": "stdout",
     "output_type": "stream",
     "text": [
      "<class 'pandas.core.series.Series'>\n"
     ]
    }
   ],
   "source": [
    "data = sunspots.load_pandas().data['SUNACTIVITY']\n",
    "display(data.head())\n",
    "print(type(data))"
   ]
  },
  {
   "cell_type": "code",
   "execution_count": 13,
   "id": "3a8fa54c",
   "metadata": {},
   "outputs": [
    {
     "data": {
      "application/vnd.microsoft.datawrangler.viewer.v0+json": {
       "columns": [
        {
         "name": "index",
         "rawType": "int64",
         "type": "integer"
        },
        {
         "name": "SUNACTIVITY",
         "rawType": "float64",
         "type": "float"
        }
       ],
       "ref": "08ec3149-7b1a-4e4b-9c27-82486d0c288d",
       "rows": [
        [
         "0",
         "5.0"
        ],
        [
         "1",
         "11.0"
        ],
        [
         "2",
         "16.0"
        ],
        [
         "3",
         "23.0"
        ],
        [
         "4",
         "36.0"
        ],
        [
         "5",
         "58.0"
        ],
        [
         "6",
         "29.0"
        ],
        [
         "7",
         "20.0"
        ],
        [
         "8",
         "10.0"
        ],
        [
         "9",
         "8.0"
        ],
        [
         "10",
         "3.0"
        ],
        [
         "11",
         "0.0"
        ],
        [
         "12",
         "0.0"
        ],
        [
         "13",
         "2.0"
        ],
        [
         "14",
         "11.0"
        ],
        [
         "15",
         "27.0"
        ],
        [
         "16",
         "47.0"
        ],
        [
         "17",
         "63.0"
        ],
        [
         "18",
         "60.0"
        ],
        [
         "19",
         "39.0"
        ],
        [
         "20",
         "28.0"
        ],
        [
         "21",
         "26.0"
        ],
        [
         "22",
         "22.0"
        ],
        [
         "23",
         "11.0"
        ],
        [
         "24",
         "21.0"
        ],
        [
         "25",
         "40.0"
        ],
        [
         "26",
         "78.0"
        ],
        [
         "27",
         "122.0"
        ],
        [
         "28",
         "103.0"
        ],
        [
         "29",
         "73.0"
        ],
        [
         "30",
         "47.0"
        ],
        [
         "31",
         "35.0"
        ],
        [
         "32",
         "11.0"
        ],
        [
         "33",
         "5.0"
        ],
        [
         "34",
         "16.0"
        ],
        [
         "35",
         "34.0"
        ],
        [
         "36",
         "70.0"
        ],
        [
         "37",
         "81.0"
        ],
        [
         "38",
         "111.0"
        ],
        [
         "39",
         "101.0"
        ],
        [
         "40",
         "73.0"
        ],
        [
         "41",
         "40.0"
        ],
        [
         "42",
         "20.0"
        ],
        [
         "43",
         "16.0"
        ],
        [
         "44",
         "5.0"
        ],
        [
         "45",
         "11.0"
        ],
        [
         "46",
         "22.0"
        ],
        [
         "47",
         "40.0"
        ],
        [
         "48",
         "60.0"
        ],
        [
         "49",
         "80.9"
        ]
       ],
       "shape": {
        "columns": 1,
        "rows": 309
       }
      },
      "text/plain": [
       "0       5.0\n",
       "1      11.0\n",
       "2      16.0\n",
       "3      23.0\n",
       "4      36.0\n",
       "       ... \n",
       "304    40.4\n",
       "305    29.8\n",
       "306    15.2\n",
       "307     7.5\n",
       "308     2.9\n",
       "Name: SUNACTIVITY, Length: 309, dtype: float64"
      ]
     },
     "execution_count": 13,
     "metadata": {},
     "output_type": "execute_result"
    }
   ],
   "source": [
    "data"
   ]
  },
  {
   "cell_type": "code",
   "execution_count": null,
   "id": "e3d39898",
   "metadata": {},
   "outputs": [
    {
     "name": "stdout",
     "output_type": "stream",
     "text": [
      "Max:  190.2\n",
      "Max:  190.2\n"
     ]
    }
   ],
   "source": [
    "print('Max: ', data.max())\n",
    "print('Min: ', data.min())"
   ]
  },
  {
   "cell_type": "code",
   "execution_count": null,
   "id": "17b7d3eb",
   "metadata": {},
   "outputs": [
    {
     "name": "stdout",
     "output_type": "stream",
     "text": [
      "Mean:  49.75210355987054\n",
      "Median:  40.0\n",
      "Summary----\n",
      " count    309.000000\n",
      "mean      49.752104\n",
      "std       40.452595\n",
      "min        0.000000\n",
      "25%       16.000000\n",
      "50%       40.000000\n",
      "75%       69.800000\n",
      "max      190.200000\n",
      "Name: SUNACTIVITY, dtype: float64\n",
      "Length:  309\n"
     ]
    }
   ],
   "source": [
    "print('Mean: ', data.mean())\n",
    "print('Median: ', data.median())\n",
    "print('Summary\\n', data.describe())\n",
    "print('Length: ', len(data))"
   ]
  },
  {
   "cell_type": "code",
   "execution_count": 9,
   "id": "e79684ed",
   "metadata": {},
   "outputs": [
    {
     "name": "stdout",
     "output_type": "stream",
     "text": [
      "Start:  0\n",
      "End:  308\n"
     ]
    }
   ],
   "source": [
    "print('Start: ', data.index[0])\n",
    "print('End: ', data.index[-1])"
   ]
  },
  {
   "cell_type": "code",
   "execution_count": null,
   "id": "441999a3",
   "metadata": {},
   "outputs": [
    {
     "name": "stdout",
     "output_type": "stream",
     "text": [
      "Cycle autocorrelation at lag 12: 0.47\n"
     ]
    }
   ],
   "source": [
    "# Difference between peaks\n",
    "autocorr = data.autocorr(lag = 12)\n",
    "print(f'Cycle autocorrelation at lag 12: {autocorr:.2f}')"
   ]
  },
  {
   "cell_type": "code",
   "execution_count": null,
   "id": "8f4defeb",
   "metadata": {},
   "outputs": [
    {
     "name": "stdout",
     "output_type": "stream",
     "text": [
      "Series([], Name: SUNACTIVITY, dtype: float64)\n"
     ]
    }
   ],
   "source": [
    "sun2 = data.loc[1749:1763]\n",
    "print(sun2)\n",
    "\n",
    "### HELP HERE"
   ]
  },
  {
   "cell_type": "code",
   "execution_count": null,
   "id": "b07da6d7",
   "metadata": {},
   "outputs": [],
   "source": []
  }
 ],
 "metadata": {
  "kernelspec": {
   "display_name": "Python 3",
   "language": "python",
   "name": "python3"
  },
  "language_info": {
   "codemirror_mode": {
    "name": "ipython",
    "version": 3
   },
   "file_extension": ".py",
   "mimetype": "text/x-python",
   "name": "python",
   "nbconvert_exporter": "python",
   "pygments_lexer": "ipython3",
   "version": "3.12.1"
  }
 },
 "nbformat": 4,
 "nbformat_minor": 5
}
