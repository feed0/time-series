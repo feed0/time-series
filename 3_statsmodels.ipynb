{
 "cells": [
  {
   "cell_type": "markdown",
   "id": "d53717ee",
   "metadata": {},
   "source": [
    "## Univariate and Multivariate series"
   ]
  },
  {
   "cell_type": "code",
   "execution_count": 1,
   "id": "10e3a588",
   "metadata": {},
   "outputs": [],
   "source": [
    "import statsmodels.api as sm\n",
    "import numpy as np\n",
    "import pandas as pd\n",
    "import matplotlib.pyplot as plt\n",
    "import seaborn as sns"
   ]
  },
  {
   "cell_type": "code",
   "execution_count": 2,
   "id": "14aac12a",
   "metadata": {},
   "outputs": [],
   "source": [
    "macrodata_df = sm.datasets.macrodata.load_pandas().data"
   ]
  },
  {
   "cell_type": "code",
   "execution_count": 3,
   "id": "33411da3",
   "metadata": {},
   "outputs": [
    {
     "data": {
      "application/vnd.microsoft.datawrangler.viewer.v0+json": {
       "columns": [
        {
         "name": "index",
         "rawType": "int64",
         "type": "integer"
        },
        {
         "name": "year",
         "rawType": "float64",
         "type": "float"
        },
        {
         "name": "quarter",
         "rawType": "float64",
         "type": "float"
        },
        {
         "name": "realgdp",
         "rawType": "float64",
         "type": "float"
        },
        {
         "name": "realcons",
         "rawType": "float64",
         "type": "float"
        },
        {
         "name": "realinv",
         "rawType": "float64",
         "type": "float"
        },
        {
         "name": "realgovt",
         "rawType": "float64",
         "type": "float"
        },
        {
         "name": "realdpi",
         "rawType": "float64",
         "type": "float"
        },
        {
         "name": "cpi",
         "rawType": "float64",
         "type": "float"
        },
        {
         "name": "m1",
         "rawType": "float64",
         "type": "float"
        },
        {
         "name": "tbilrate",
         "rawType": "float64",
         "type": "float"
        },
        {
         "name": "unemp",
         "rawType": "float64",
         "type": "float"
        },
        {
         "name": "pop",
         "rawType": "float64",
         "type": "float"
        },
        {
         "name": "infl",
         "rawType": "float64",
         "type": "float"
        },
        {
         "name": "realint",
         "rawType": "float64",
         "type": "float"
        }
       ],
       "ref": "0295bc80-7c49-4549-a634-66f5d714c974",
       "rows": [
        [
         "0",
         "1959.0",
         "1.0",
         "2710.349",
         "1707.4",
         "286.898",
         "470.045",
         "1886.9",
         "28.98",
         "139.7",
         "2.82",
         "5.8",
         "177.146",
         "0.0",
         "0.0"
        ],
        [
         "1",
         "1959.0",
         "2.0",
         "2778.801",
         "1733.7",
         "310.859",
         "481.301",
         "1919.7",
         "29.15",
         "141.7",
         "3.08",
         "5.1",
         "177.83",
         "2.34",
         "0.74"
        ],
        [
         "2",
         "1959.0",
         "3.0",
         "2775.488",
         "1751.8",
         "289.226",
         "491.26",
         "1916.4",
         "29.35",
         "140.5",
         "3.82",
         "5.3",
         "178.657",
         "2.74",
         "1.09"
        ],
        [
         "3",
         "1959.0",
         "4.0",
         "2785.204",
         "1753.7",
         "299.356",
         "484.052",
         "1931.3",
         "29.37",
         "140.0",
         "4.33",
         "5.6",
         "179.386",
         "0.27",
         "4.06"
        ],
        [
         "4",
         "1960.0",
         "1.0",
         "2847.699",
         "1770.5",
         "331.722",
         "462.199",
         "1955.5",
         "29.54",
         "139.6",
         "3.5",
         "5.2",
         "180.007",
         "2.31",
         "1.19"
        ]
       ],
       "shape": {
        "columns": 14,
        "rows": 5
       }
      },
      "text/html": [
       "<div>\n",
       "<style scoped>\n",
       "    .dataframe tbody tr th:only-of-type {\n",
       "        vertical-align: middle;\n",
       "    }\n",
       "\n",
       "    .dataframe tbody tr th {\n",
       "        vertical-align: top;\n",
       "    }\n",
       "\n",
       "    .dataframe thead th {\n",
       "        text-align: right;\n",
       "    }\n",
       "</style>\n",
       "<table border=\"1\" class=\"dataframe\">\n",
       "  <thead>\n",
       "    <tr style=\"text-align: right;\">\n",
       "      <th></th>\n",
       "      <th>year</th>\n",
       "      <th>quarter</th>\n",
       "      <th>realgdp</th>\n",
       "      <th>realcons</th>\n",
       "      <th>realinv</th>\n",
       "      <th>realgovt</th>\n",
       "      <th>realdpi</th>\n",
       "      <th>cpi</th>\n",
       "      <th>m1</th>\n",
       "      <th>tbilrate</th>\n",
       "      <th>unemp</th>\n",
       "      <th>pop</th>\n",
       "      <th>infl</th>\n",
       "      <th>realint</th>\n",
       "    </tr>\n",
       "  </thead>\n",
       "  <tbody>\n",
       "    <tr>\n",
       "      <th>0</th>\n",
       "      <td>1959.0</td>\n",
       "      <td>1.0</td>\n",
       "      <td>2710.349</td>\n",
       "      <td>1707.4</td>\n",
       "      <td>286.898</td>\n",
       "      <td>470.045</td>\n",
       "      <td>1886.9</td>\n",
       "      <td>28.98</td>\n",
       "      <td>139.7</td>\n",
       "      <td>2.82</td>\n",
       "      <td>5.8</td>\n",
       "      <td>177.146</td>\n",
       "      <td>0.00</td>\n",
       "      <td>0.00</td>\n",
       "    </tr>\n",
       "    <tr>\n",
       "      <th>1</th>\n",
       "      <td>1959.0</td>\n",
       "      <td>2.0</td>\n",
       "      <td>2778.801</td>\n",
       "      <td>1733.7</td>\n",
       "      <td>310.859</td>\n",
       "      <td>481.301</td>\n",
       "      <td>1919.7</td>\n",
       "      <td>29.15</td>\n",
       "      <td>141.7</td>\n",
       "      <td>3.08</td>\n",
       "      <td>5.1</td>\n",
       "      <td>177.830</td>\n",
       "      <td>2.34</td>\n",
       "      <td>0.74</td>\n",
       "    </tr>\n",
       "    <tr>\n",
       "      <th>2</th>\n",
       "      <td>1959.0</td>\n",
       "      <td>3.0</td>\n",
       "      <td>2775.488</td>\n",
       "      <td>1751.8</td>\n",
       "      <td>289.226</td>\n",
       "      <td>491.260</td>\n",
       "      <td>1916.4</td>\n",
       "      <td>29.35</td>\n",
       "      <td>140.5</td>\n",
       "      <td>3.82</td>\n",
       "      <td>5.3</td>\n",
       "      <td>178.657</td>\n",
       "      <td>2.74</td>\n",
       "      <td>1.09</td>\n",
       "    </tr>\n",
       "    <tr>\n",
       "      <th>3</th>\n",
       "      <td>1959.0</td>\n",
       "      <td>4.0</td>\n",
       "      <td>2785.204</td>\n",
       "      <td>1753.7</td>\n",
       "      <td>299.356</td>\n",
       "      <td>484.052</td>\n",
       "      <td>1931.3</td>\n",
       "      <td>29.37</td>\n",
       "      <td>140.0</td>\n",
       "      <td>4.33</td>\n",
       "      <td>5.6</td>\n",
       "      <td>179.386</td>\n",
       "      <td>0.27</td>\n",
       "      <td>4.06</td>\n",
       "    </tr>\n",
       "    <tr>\n",
       "      <th>4</th>\n",
       "      <td>1960.0</td>\n",
       "      <td>1.0</td>\n",
       "      <td>2847.699</td>\n",
       "      <td>1770.5</td>\n",
       "      <td>331.722</td>\n",
       "      <td>462.199</td>\n",
       "      <td>1955.5</td>\n",
       "      <td>29.54</td>\n",
       "      <td>139.6</td>\n",
       "      <td>3.50</td>\n",
       "      <td>5.2</td>\n",
       "      <td>180.007</td>\n",
       "      <td>2.31</td>\n",
       "      <td>1.19</td>\n",
       "    </tr>\n",
       "  </tbody>\n",
       "</table>\n",
       "</div>"
      ],
      "text/plain": [
       "     year  quarter   realgdp  realcons  realinv  realgovt  realdpi    cpi  \\\n",
       "0  1959.0      1.0  2710.349    1707.4  286.898   470.045   1886.9  28.98   \n",
       "1  1959.0      2.0  2778.801    1733.7  310.859   481.301   1919.7  29.15   \n",
       "2  1959.0      3.0  2775.488    1751.8  289.226   491.260   1916.4  29.35   \n",
       "3  1959.0      4.0  2785.204    1753.7  299.356   484.052   1931.3  29.37   \n",
       "4  1960.0      1.0  2847.699    1770.5  331.722   462.199   1955.5  29.54   \n",
       "\n",
       "      m1  tbilrate  unemp      pop  infl  realint  \n",
       "0  139.7      2.82    5.8  177.146  0.00     0.00  \n",
       "1  141.7      3.08    5.1  177.830  2.34     0.74  \n",
       "2  140.5      3.82    5.3  178.657  2.74     1.09  \n",
       "3  140.0      4.33    5.6  179.386  0.27     4.06  \n",
       "4  139.6      3.50    5.2  180.007  2.31     1.19  "
      ]
     },
     "execution_count": 3,
     "metadata": {},
     "output_type": "execute_result"
    }
   ],
   "source": [
    "macrodata_df.head()"
   ]
  },
  {
   "cell_type": "markdown",
   "id": "5c0f5547",
   "metadata": {},
   "source": []
  },
  {
   "cell_type": "markdown",
   "id": "fde63bb1",
   "metadata": {},
   "source": [
    "## Series using Yahoo Finance"
   ]
  },
  {
   "cell_type": "code",
   "execution_count": 4,
   "id": "3205efc8",
   "metadata": {},
   "outputs": [],
   "source": [
    "# %pip install yfinance"
   ]
  },
  {
   "cell_type": "code",
   "execution_count": 5,
   "id": "759599fc",
   "metadata": {},
   "outputs": [],
   "source": [
    "import yfinance as yf"
   ]
  },
  {
   "cell_type": "code",
   "execution_count": 6,
   "id": "97de2e9f",
   "metadata": {},
   "outputs": [
    {
     "name": "stderr",
     "output_type": "stream",
     "text": [
      "/tmp/ipykernel_39992/2769434103.py:3: FutureWarning: YF.download() has changed argument auto_adjust default to True\n",
      "  df = yf.download(\n",
      "[*********************100%***********************]  1 of 1 completed\n"
     ]
    }
   ],
   "source": [
    "# Tickers = ['VALE3.SA', 'PETR4.SA', 'ITUB4.SA', 'BBDC4.SA', 'ABEV3.SA', 'EUROUSD=X']\n",
    "ticker = 'PETR4.SA'\n",
    "df = yf.download(\n",
    "    ticker,\n",
    "    start = '2010-01-01',\n",
    "    end = '2023-01-01',\n",
    ")"
   ]
  },
  {
   "cell_type": "code",
   "execution_count": 7,
   "id": "5cc91220",
   "metadata": {},
   "outputs": [
    {
     "data": {
      "application/vnd.microsoft.datawrangler.viewer.v0+json": {
       "columns": [
        {
         "name": "Date",
         "rawType": "datetime64[ns]",
         "type": "datetime"
        },
        {
         "name": "('Close', 'PETR4.SA')",
         "rawType": "float64",
         "type": "float"
        },
        {
         "name": "('High', 'PETR4.SA')",
         "rawType": "float64",
         "type": "float"
        },
        {
         "name": "('Low', 'PETR4.SA')",
         "rawType": "float64",
         "type": "float"
        },
        {
         "name": "('Open', 'PETR4.SA')",
         "rawType": "float64",
         "type": "float"
        },
        {
         "name": "('Volume', 'PETR4.SA')",
         "rawType": "int64",
         "type": "integer"
        }
       ],
       "ref": "86452565-8763-47d7-afae-350108ca48ba",
       "rows": [
        [
         "2010-01-04 00:00:00",
         "9.039498329162598",
         "9.039498329162598",
         "8.918390365562907",
         "8.949878694813348",
         "13303600"
        ],
        [
         "2010-01-05 00:00:00",
         "8.961991310119629",
         "9.066144256020552",
         "8.913547929052584",
         "9.05403364174895",
         "21396400"
        ],
        [
         "2010-01-06 00:00:00",
         "9.083098411560059",
         "9.083098411560059",
         "8.913547056414828",
         "8.913547056414828",
         "18720600"
        ],
        [
         "2010-01-07 00:00:00",
         "8.998322486877441",
         "9.07098708364758",
         "8.978944768282483",
         "9.027388140789402",
         "10964600"
        ],
        [
         "2010-01-08 00:00:00",
         "8.949881553649902",
         "9.056456263027547",
         "8.928082076279392",
         "9.000746692854182",
         "14624200"
        ]
       ],
       "shape": {
        "columns": 5,
        "rows": 5
       }
      },
      "text/html": [
       "<div>\n",
       "<style scoped>\n",
       "    .dataframe tbody tr th:only-of-type {\n",
       "        vertical-align: middle;\n",
       "    }\n",
       "\n",
       "    .dataframe tbody tr th {\n",
       "        vertical-align: top;\n",
       "    }\n",
       "\n",
       "    .dataframe thead tr th {\n",
       "        text-align: left;\n",
       "    }\n",
       "\n",
       "    .dataframe thead tr:last-of-type th {\n",
       "        text-align: right;\n",
       "    }\n",
       "</style>\n",
       "<table border=\"1\" class=\"dataframe\">\n",
       "  <thead>\n",
       "    <tr>\n",
       "      <th>Price</th>\n",
       "      <th>Close</th>\n",
       "      <th>High</th>\n",
       "      <th>Low</th>\n",
       "      <th>Open</th>\n",
       "      <th>Volume</th>\n",
       "    </tr>\n",
       "    <tr>\n",
       "      <th>Ticker</th>\n",
       "      <th>PETR4.SA</th>\n",
       "      <th>PETR4.SA</th>\n",
       "      <th>PETR4.SA</th>\n",
       "      <th>PETR4.SA</th>\n",
       "      <th>PETR4.SA</th>\n",
       "    </tr>\n",
       "    <tr>\n",
       "      <th>Date</th>\n",
       "      <th></th>\n",
       "      <th></th>\n",
       "      <th></th>\n",
       "      <th></th>\n",
       "      <th></th>\n",
       "    </tr>\n",
       "  </thead>\n",
       "  <tbody>\n",
       "    <tr>\n",
       "      <th>2010-01-04</th>\n",
       "      <td>9.039498</td>\n",
       "      <td>9.039498</td>\n",
       "      <td>8.918390</td>\n",
       "      <td>8.949879</td>\n",
       "      <td>13303600</td>\n",
       "    </tr>\n",
       "    <tr>\n",
       "      <th>2010-01-05</th>\n",
       "      <td>8.961991</td>\n",
       "      <td>9.066144</td>\n",
       "      <td>8.913548</td>\n",
       "      <td>9.054034</td>\n",
       "      <td>21396400</td>\n",
       "    </tr>\n",
       "    <tr>\n",
       "      <th>2010-01-06</th>\n",
       "      <td>9.083098</td>\n",
       "      <td>9.083098</td>\n",
       "      <td>8.913547</td>\n",
       "      <td>8.913547</td>\n",
       "      <td>18720600</td>\n",
       "    </tr>\n",
       "    <tr>\n",
       "      <th>2010-01-07</th>\n",
       "      <td>8.998322</td>\n",
       "      <td>9.070987</td>\n",
       "      <td>8.978945</td>\n",
       "      <td>9.027388</td>\n",
       "      <td>10964600</td>\n",
       "    </tr>\n",
       "    <tr>\n",
       "      <th>2010-01-08</th>\n",
       "      <td>8.949882</td>\n",
       "      <td>9.056456</td>\n",
       "      <td>8.928082</td>\n",
       "      <td>9.000747</td>\n",
       "      <td>14624200</td>\n",
       "    </tr>\n",
       "  </tbody>\n",
       "</table>\n",
       "</div>"
      ],
      "text/plain": [
       "Price          Close      High       Low      Open    Volume\n",
       "Ticker      PETR4.SA  PETR4.SA  PETR4.SA  PETR4.SA  PETR4.SA\n",
       "Date                                                        \n",
       "2010-01-04  9.039498  9.039498  8.918390  8.949879  13303600\n",
       "2010-01-05  8.961991  9.066144  8.913548  9.054034  21396400\n",
       "2010-01-06  9.083098  9.083098  8.913547  8.913547  18720600\n",
       "2010-01-07  8.998322  9.070987  8.978945  9.027388  10964600\n",
       "2010-01-08  8.949882  9.056456  8.928082  9.000747  14624200"
      ]
     },
     "execution_count": 7,
     "metadata": {},
     "output_type": "execute_result"
    }
   ],
   "source": [
    "df.head()"
   ]
  },
  {
   "cell_type": "markdown",
   "id": "52b1fd99",
   "metadata": {},
   "source": [
    "## Synthetic"
   ]
  },
  {
   "cell_type": "code",
   "execution_count": 8,
   "id": "3194d5d1",
   "metadata": {},
   "outputs": [],
   "source": [
    "from sklearn.datasets import make_regression"
   ]
  },
  {
   "cell_type": "code",
   "execution_count": 9,
   "id": "fb514968",
   "metadata": {},
   "outputs": [],
   "source": [
    "\n",
    "X, y = make_regression(\n",
    "    n_samples = 100,\n",
    "    n_features = 10,\n",
    "    n_informative = 5,\n",
    "    random_state = 42\n",
    ")"
   ]
  },
  {
   "cell_type": "markdown",
   "id": "d24ea00a",
   "metadata": {},
   "source": [
    "## Exercise\n",
    "### Univariate:\n",
    "- Cancer\n",
    "- CO2\n",
    "- Engel\n",
    "- Nile\n",
    "- Strikes\n",
    "- Sunspots"
   ]
  },
  {
   "cell_type": "code",
   "execution_count": 10,
   "id": "2e715b18",
   "metadata": {},
   "outputs": [],
   "source": [
    "# Univariate datasets\n",
    "cancer_df   = sm.datasets  .cancer.load_pandas().data\n",
    "co2_df      = sm.datasets     .co2.load_pandas().data\n",
    "engel_df    = sm.datasets   .engel.load_pandas().data\n",
    "nile_df     = sm.datasets    .nile.load_pandas().data\n",
    "strikes_df  = sm.datasets .strikes.load_pandas().data\n",
    "sunspots_df = sm.datasets.sunspots.load_pandas().data"
   ]
  },
  {
   "cell_type": "code",
   "execution_count": 11,
   "id": "bddf109e",
   "metadata": {},
   "outputs": [],
   "source": [
    "from statsmodels.tsa.stattools import acf\n",
    "\n",
    "def ts_summary(data):\n",
    "    '''\n",
    "    Print Statistics and display plots for a given time series.\n",
    "    '''\n",
    "    \n",
    "    # Convert to pandas Series if it's not already\n",
    "    if not isinstance(data, pd.Series):\n",
    "        data = pd.Series(data)\n",
    "    \n",
    "    # 1. Mean and Median\n",
    "    mean_val = data.mean()\n",
    "    median_val = data.median()\n",
    "    print(f\"Mean: {mean_val}\")\n",
    "    print(f\"Median: {median_val}\")\n",
    "    \n",
    "    # 2. Min and Max\n",
    "    min_val = data.min()\n",
    "    max_val = data.max()\n",
    "    print(f\"Min: {min_val}\")\n",
    "    print(f\"Max: {max_val}\")\n",
    "    \n",
    "    # 3. Autocorrelation (lag=6, lag=12)\n",
    "    acf_values_6 = acf(data, nlags=6)[1:]  # Skipping the zero lag\n",
    "    acf_values_12 = acf(data, nlags=12)[1:]  # Skipping the zero lag\n",
    "    print(f\"Autocorrelation (lag=6): {acf_values_6}\")\n",
    "    print(f\"Autocorrelation (lag=12): {acf_values_12}\")\n",
    "    \n",
    "    # 4. Line Plot with Mean\n",
    "    plt.figure(figsize=(12, 6))\n",
    "    plt.plot(data, label='Time Series')\n",
    "    plt.axhline(mean_val, color='red', linestyle='--', label=f'Mean: {mean_val}')\n",
    "    plt.title('Time Series with Mean')\n",
    "    plt.legend()\n",
    "    plt.show()\n",
    "\n",
    "    # 5. Histogram\n",
    "    plt.figure(figsize=(12, 6))\n",
    "    sns.histplot(data, kde=True, bins=30)\n",
    "    plt.title('Histogram of Time Series')\n",
    "    plt.show()\n",
    "\n",
    "    # 6. Boxplot\n",
    "    plt.figure(figsize=(12, 6))\n",
    "    sns.boxplot(x=data)\n",
    "    plt.title('Boxplot of Time Series')\n",
    "    plt.show()\n"
   ]
  },
  {
   "cell_type": "markdown",
   "id": "af1cd3fc",
   "metadata": {},
   "source": [
    "#### 1/6 Cancer"
   ]
  },
  {
   "cell_type": "code",
   "execution_count": 12,
   "id": "98d2652d",
   "metadata": {},
   "outputs": [
    {
     "data": {
      "application/vnd.microsoft.datawrangler.viewer.v0+json": {
       "columns": [
        {
         "name": "index",
         "rawType": "int64",
         "type": "integer"
        },
        {
         "name": "cancer",
         "rawType": "float64",
         "type": "float"
        },
        {
         "name": "population",
         "rawType": "float64",
         "type": "float"
        }
       ],
       "ref": "9a6d7525-0712-45c9-a6d8-27393d0f4159",
       "rows": [
        [
         "0",
         "1.0",
         "445.0"
        ],
        [
         "1",
         "0.0",
         "559.0"
        ],
        [
         "2",
         "3.0",
         "677.0"
        ],
        [
         "3",
         "4.0",
         "681.0"
        ],
        [
         "4",
         "3.0",
         "746.0"
        ],
        [
         "5",
         "4.0",
         "869.0"
        ],
        [
         "6",
         "1.0",
         "950.0"
        ],
        [
         "7",
         "5.0",
         "976.0"
        ],
        [
         "8",
         "5.0",
         "1096.0"
        ],
        [
         "9",
         "5.0",
         "1098.0"
        ],
        [
         "10",
         "5.0",
         "1114.0"
        ],
        [
         "11",
         "7.0",
         "1125.0"
        ],
        [
         "12",
         "5.0",
         "1236.0"
        ],
        [
         "13",
         "6.0",
         "1285.0"
        ],
        [
         "14",
         "3.0",
         "1291.0"
        ],
        [
         "15",
         "3.0",
         "1318.0"
        ],
        [
         "16",
         "2.0",
         "1323.0"
        ],
        [
         "17",
         "8.0",
         "1327.0"
        ],
        [
         "18",
         "9.0",
         "1438.0"
        ],
        [
         "19",
         "7.0",
         "1479.0"
        ],
        [
         "20",
         "4.0",
         "1536.0"
        ],
        [
         "21",
         "6.0",
         "1598.0"
        ],
        [
         "22",
         "6.0",
         "1635.0"
        ],
        [
         "23",
         "11.0",
         "1667.0"
        ],
        [
         "24",
         "4.0",
         "1696.0"
        ],
        [
         "25",
         "7.0",
         "1792.0"
        ],
        [
         "26",
         "7.0",
         "1795.0"
        ],
        [
         "27",
         "4.0",
         "1808.0"
        ],
        [
         "28",
         "6.0",
         "1838.0"
        ],
        [
         "29",
         "16.0",
         "1838.0"
        ],
        [
         "30",
         "3.0",
         "1847.0"
        ],
        [
         "31",
         "8.0",
         "1933.0"
        ],
        [
         "32",
         "8.0",
         "1959.0"
        ],
        [
         "33",
         "4.0",
         "1990.0"
        ],
        [
         "34",
         "9.0",
         "2003.0"
        ],
        [
         "35",
         "10.0",
         "2070.0"
        ],
        [
         "36",
         "7.0",
         "2091.0"
        ],
        [
         "37",
         "8.0",
         "2099.0"
        ],
        [
         "38",
         "5.0",
         "2104.0"
        ],
        [
         "39",
         "11.0",
         "2147.0"
        ],
        [
         "40",
         "4.0",
         "2154.0"
        ],
        [
         "41",
         "12.0",
         "2163.0"
        ],
        [
         "42",
         "11.0",
         "2172.0"
        ],
        [
         "43",
         "9.0",
         "2174.0"
        ],
        [
         "44",
         "13.0",
         "2183.0"
        ],
        [
         "45",
         "17.0",
         "2193.0"
        ],
        [
         "46",
         "11.0",
         "2210.0"
        ],
        [
         "47",
         "10.0",
         "2212.0"
        ],
        [
         "48",
         "4.0",
         "2236.0"
        ],
        [
         "49",
         "4.0",
         "2245.0"
        ]
       ],
       "shape": {
        "columns": 2,
        "rows": 301
       }
      },
      "text/html": [
       "<div>\n",
       "<style scoped>\n",
       "    .dataframe tbody tr th:only-of-type {\n",
       "        vertical-align: middle;\n",
       "    }\n",
       "\n",
       "    .dataframe tbody tr th {\n",
       "        vertical-align: top;\n",
       "    }\n",
       "\n",
       "    .dataframe thead th {\n",
       "        text-align: right;\n",
       "    }\n",
       "</style>\n",
       "<table border=\"1\" class=\"dataframe\">\n",
       "  <thead>\n",
       "    <tr style=\"text-align: right;\">\n",
       "      <th></th>\n",
       "      <th>cancer</th>\n",
       "      <th>population</th>\n",
       "    </tr>\n",
       "  </thead>\n",
       "  <tbody>\n",
       "    <tr>\n",
       "      <th>0</th>\n",
       "      <td>1.0</td>\n",
       "      <td>445.0</td>\n",
       "    </tr>\n",
       "    <tr>\n",
       "      <th>1</th>\n",
       "      <td>0.0</td>\n",
       "      <td>559.0</td>\n",
       "    </tr>\n",
       "    <tr>\n",
       "      <th>2</th>\n",
       "      <td>3.0</td>\n",
       "      <td>677.0</td>\n",
       "    </tr>\n",
       "    <tr>\n",
       "      <th>3</th>\n",
       "      <td>4.0</td>\n",
       "      <td>681.0</td>\n",
       "    </tr>\n",
       "    <tr>\n",
       "      <th>4</th>\n",
       "      <td>3.0</td>\n",
       "      <td>746.0</td>\n",
       "    </tr>\n",
       "    <tr>\n",
       "      <th>...</th>\n",
       "      <td>...</td>\n",
       "      <td>...</td>\n",
       "    </tr>\n",
       "    <tr>\n",
       "      <th>296</th>\n",
       "      <td>250.0</td>\n",
       "      <td>62931.0</td>\n",
       "    </tr>\n",
       "    <tr>\n",
       "      <th>297</th>\n",
       "      <td>267.0</td>\n",
       "      <td>63476.0</td>\n",
       "    </tr>\n",
       "    <tr>\n",
       "      <th>298</th>\n",
       "      <td>244.0</td>\n",
       "      <td>66676.0</td>\n",
       "    </tr>\n",
       "    <tr>\n",
       "      <th>299</th>\n",
       "      <td>248.0</td>\n",
       "      <td>74005.0</td>\n",
       "    </tr>\n",
       "    <tr>\n",
       "      <th>300</th>\n",
       "      <td>360.0</td>\n",
       "      <td>88456.0</td>\n",
       "    </tr>\n",
       "  </tbody>\n",
       "</table>\n",
       "<p>301 rows × 2 columns</p>\n",
       "</div>"
      ],
      "text/plain": [
       "     cancer  population\n",
       "0       1.0       445.0\n",
       "1       0.0       559.0\n",
       "2       3.0       677.0\n",
       "3       4.0       681.0\n",
       "4       3.0       746.0\n",
       "..      ...         ...\n",
       "296   250.0     62931.0\n",
       "297   267.0     63476.0\n",
       "298   244.0     66676.0\n",
       "299   248.0     74005.0\n",
       "300   360.0     88456.0\n",
       "\n",
       "[301 rows x 2 columns]"
      ]
     },
     "execution_count": 12,
     "metadata": {},
     "output_type": "execute_result"
    }
   ],
   "source": [
    "cancer_df"
   ]
  },
  {
   "cell_type": "code",
   "execution_count": 13,
   "id": "0529c8b2",
   "metadata": {},
   "outputs": [
    {
     "data": {
      "application/vnd.microsoft.datawrangler.viewer.v0+json": {
       "columns": [
        {
         "name": "index",
         "rawType": "int64",
         "type": "integer"
        },
        {
         "name": "cancer",
         "rawType": "float64",
         "type": "float"
        },
        {
         "name": "population",
         "rawType": "float64",
         "type": "float"
        }
       ],
       "ref": "c78cdc39-ff08-46e6-a384-1386af7d0691",
       "rows": [
        [
         "0",
         "1.0",
         "445.0"
        ],
        [
         "1",
         "0.0",
         "559.0"
        ],
        [
         "2",
         "3.0",
         "677.0"
        ],
        [
         "3",
         "4.0",
         "681.0"
        ],
        [
         "4",
         "3.0",
         "746.0"
        ]
       ],
       "shape": {
        "columns": 2,
        "rows": 5
       }
      },
      "text/html": [
       "<div>\n",
       "<style scoped>\n",
       "    .dataframe tbody tr th:only-of-type {\n",
       "        vertical-align: middle;\n",
       "    }\n",
       "\n",
       "    .dataframe tbody tr th {\n",
       "        vertical-align: top;\n",
       "    }\n",
       "\n",
       "    .dataframe thead th {\n",
       "        text-align: right;\n",
       "    }\n",
       "</style>\n",
       "<table border=\"1\" class=\"dataframe\">\n",
       "  <thead>\n",
       "    <tr style=\"text-align: right;\">\n",
       "      <th></th>\n",
       "      <th>cancer</th>\n",
       "      <th>population</th>\n",
       "    </tr>\n",
       "  </thead>\n",
       "  <tbody>\n",
       "    <tr>\n",
       "      <th>0</th>\n",
       "      <td>1.0</td>\n",
       "      <td>445.0</td>\n",
       "    </tr>\n",
       "    <tr>\n",
       "      <th>1</th>\n",
       "      <td>0.0</td>\n",
       "      <td>559.0</td>\n",
       "    </tr>\n",
       "    <tr>\n",
       "      <th>2</th>\n",
       "      <td>3.0</td>\n",
       "      <td>677.0</td>\n",
       "    </tr>\n",
       "    <tr>\n",
       "      <th>3</th>\n",
       "      <td>4.0</td>\n",
       "      <td>681.0</td>\n",
       "    </tr>\n",
       "    <tr>\n",
       "      <th>4</th>\n",
       "      <td>3.0</td>\n",
       "      <td>746.0</td>\n",
       "    </tr>\n",
       "  </tbody>\n",
       "</table>\n",
       "</div>"
      ],
      "text/plain": [
       "   cancer  population\n",
       "0     1.0       445.0\n",
       "1     0.0       559.0\n",
       "2     3.0       677.0\n",
       "3     4.0       681.0\n",
       "4     3.0       746.0"
      ]
     },
     "execution_count": 13,
     "metadata": {},
     "output_type": "execute_result"
    }
   ],
   "source": [
    "cancer_df.head()"
   ]
  },
  {
   "cell_type": "code",
   "execution_count": 14,
   "id": "29099347",
   "metadata": {},
   "outputs": [
    {
     "data": {
      "application/vnd.microsoft.datawrangler.viewer.v0+json": {
       "columns": [
        {
         "name": "index",
         "rawType": "int64",
         "type": "integer"
        },
        {
         "name": "cancer",
         "rawType": "float64",
         "type": "float"
        }
       ],
       "ref": "b85f63e2-8c37-48a6-9e09-5cfabecd5b37",
       "rows": [
        [
         "0",
         "1.0"
        ],
        [
         "1",
         "0.0"
        ],
        [
         "2",
         "3.0"
        ],
        [
         "3",
         "4.0"
        ],
        [
         "4",
         "3.0"
        ]
       ],
       "shape": {
        "columns": 1,
        "rows": 5
       }
      },
      "text/plain": [
       "0    1.0\n",
       "1    0.0\n",
       "2    3.0\n",
       "3    4.0\n",
       "4    3.0\n",
       "Name: cancer, dtype: float64"
      ]
     },
     "execution_count": 14,
     "metadata": {},
     "output_type": "execute_result"
    }
   ],
   "source": [
    "cancer_ts = cancer_df['cancer']\n",
    "cancer_ts.head()"
   ]
  },
  {
   "cell_type": "code",
   "execution_count": 15,
   "id": "502ca257",
   "metadata": {},
   "outputs": [
    {
     "name": "stdout",
     "output_type": "stream",
     "text": [
      "Mean: 39.857142857142854\n",
      "Median: 22.0\n",
      "Min: 0.0\n",
      "Max: 360.0\n",
      "Autocorrelation (lag=6): [0.87104993 0.84081983 0.80274891 0.76302665 0.71504213 0.68934261]\n",
      "Autocorrelation (lag=12): [0.87104993 0.84081983 0.80274891 0.76302665 0.71504213 0.68934261\n",
      " 0.65807501 0.58829179 0.56814204 0.54262119 0.5381241  0.49541596]\n"
     ]
    },
    {
     "data": {
      "image/png": "[encoded data removed]",
      "text/plain": [
       "<Figure size 1200x600 with 1 Axes>"
      ]
     },
     "metadata": {},
     "output_type": "display_data"
    },
    {
     "data": {
      "image/png": "[encoded data removed]",
      "text/plain": [
       "<Figure size 1200x600 with 1 Axes>"
      ]
     },
     "metadata": {},
     "output_type": "display_data"
    },
    {
     "data": {
      "image/png": "[encoded data removed]",
      "text/plain": [
       "<Figure size 1200x600 with 1 Axes>"
      ]
     },
     "metadata": {},
     "output_type": "display_data"
    }
   ],
   "source": [
    "ts_summary(cancer_ts)"
   ]
  },
  {
   "cell_type": "code",
   "execution_count": 16,
   "id": "196e037e",
   "metadata": {},
   "outputs": [
    {
     "data": {
      "application/vnd.microsoft.datawrangler.viewer.v0+json": {
       "columns": [
        {
         "name": "index",
         "rawType": "int64",
         "type": "integer"
        },
        {
         "name": "cancer",
         "rawType": "float64",
         "type": "float"
        }
       ],
       "ref": "9af3ed0b-7ce0-4d51-9e1d-7fbe5043d8a4",
       "rows": [],
       "shape": {
        "columns": 1,
        "rows": 0
       }
      },
      "text/plain": [
       "Series([], Name: cancer, dtype: float64)"
      ]
     },
     "execution_count": 16,
     "metadata": {},
     "output_type": "execute_result"
    }
   ],
   "source": [
    "cancer_ts[cancer_ts == np.nan] "
   ]
  },
  {
   "cell_type": "markdown",
   "id": "d013927e",
   "metadata": {},
   "source": [
    "#### 2/6 CO2"
   ]
  },
  {
   "cell_type": "code",
   "execution_count": 17,
   "id": "946303fd",
   "metadata": {},
   "outputs": [
    {
     "data": {
      "application/vnd.microsoft.datawrangler.viewer.v0+json": {
       "columns": [
        {
         "name": "index",
         "rawType": "datetime64[ns]",
         "type": "datetime"
        },
        {
         "name": "co2",
         "rawType": "float64",
         "type": "float"
        }
       ],
       "ref": "a51efa92-6de6-4748-8d0c-8830e5070f1d",
       "rows": [
        [
         "1958-03-29 00:00:00",
         "316.1"
        ],
        [
         "1958-04-05 00:00:00",
         "317.3"
        ],
        [
         "1958-04-12 00:00:00",
         "317.6"
        ],
        [
         "1958-04-19 00:00:00",
         "317.5"
        ],
        [
         "1958-04-26 00:00:00",
         "316.4"
        ]
       ],
       "shape": {
        "columns": 1,
        "rows": 5
       }
      },
      "text/html": [
       "<div>\n",
       "<style scoped>\n",
       "    .dataframe tbody tr th:only-of-type {\n",
       "        vertical-align: middle;\n",
       "    }\n",
       "\n",
       "    .dataframe tbody tr th {\n",
       "        vertical-align: top;\n",
       "    }\n",
       "\n",
       "    .dataframe thead th {\n",
       "        text-align: right;\n",
       "    }\n",
       "</style>\n",
       "<table border=\"1\" class=\"dataframe\">\n",
       "  <thead>\n",
       "    <tr style=\"text-align: right;\">\n",
       "      <th></th>\n",
       "      <th>co2</th>\n",
       "    </tr>\n",
       "  </thead>\n",
       "  <tbody>\n",
       "    <tr>\n",
       "      <th>1958-03-29</th>\n",
       "      <td>316.1</td>\n",
       "    </tr>\n",
       "    <tr>\n",
       "      <th>1958-04-05</th>\n",
       "      <td>317.3</td>\n",
       "    </tr>\n",
       "    <tr>\n",
       "      <th>1958-04-12</th>\n",
       "      <td>317.6</td>\n",
       "    </tr>\n",
       "    <tr>\n",
       "      <th>1958-04-19</th>\n",
       "      <td>317.5</td>\n",
       "    </tr>\n",
       "    <tr>\n",
       "      <th>1958-04-26</th>\n",
       "      <td>316.4</td>\n",
       "    </tr>\n",
       "  </tbody>\n",
       "</table>\n",
       "</div>"
      ],
      "text/plain": [
       "              co2\n",
       "1958-03-29  316.1\n",
       "1958-04-05  317.3\n",
       "1958-04-12  317.6\n",
       "1958-04-19  317.5\n",
       "1958-04-26  316.4"
      ]
     },
     "execution_count": 17,
     "metadata": {},
     "output_type": "execute_result"
    }
   ],
   "source": [
    "co2_df.head()"
   ]
  },
  {
   "cell_type": "code",
   "execution_count": 18,
   "id": "53807ad4",
   "metadata": {},
   "outputs": [
    {
     "name": "stdout",
     "output_type": "stream",
     "text": [
      "1958-03-29    316.1\n",
      "1958-04-05    317.3\n",
      "1958-04-12    317.6\n",
      "1958-04-19    317.5\n",
      "1958-04-26    316.4\n",
      "Freq: W-SAT, Name: co2, dtype: float64\n",
      "\n",
      "Time series range: 1958-03-29 00:00:00 to 2001-12-29 00:00:00\n",
      "Frequency: <Week: weekday=5>\n"
     ]
    }
   ],
   "source": [
    "# First, ensure the index is properly formatted as datetime\n",
    "co2_df.index = pd.to_datetime(co2_df.index)\n",
    "\n",
    "# Now you can work with it as a time series\n",
    "co2_ts = co2_df['co2']\n",
    "\n",
    "# Verify the time series\n",
    "print(co2_ts.head())\n",
    "print(f\"\\nTime series range: {co2_ts.index.min()} to {co2_ts.index.max()}\")\n",
    "print(f\"Frequency: {co2_ts.index.freq}\")"
   ]
  },
  {
   "cell_type": "code",
   "execution_count": 19,
   "id": "ffc08233",
   "metadata": {},
   "outputs": [
    {
     "name": "stdout",
     "output_type": "stream",
     "text": [
      "<class 'pandas.core.series.Series'>\n"
     ]
    }
   ],
   "source": [
    "print(type(co2_ts))\n"
   ]
  },
  {
   "cell_type": "code",
   "execution_count": 20,
   "id": "53acf897",
   "metadata": {},
   "outputs": [
    {
     "data": {
      "application/vnd.microsoft.datawrangler.viewer.v0+json": {
       "columns": [
        {
         "name": "index",
         "rawType": "datetime64[ns]",
         "type": "datetime"
        },
        {
         "name": "co2",
         "rawType": "float64",
         "type": "float"
        }
       ],
       "ref": "0090a791-4a0a-437f-b748-4796f197b2ad",
       "rows": [
        [
         "1958-03-29 00:00:00",
         "316.1"
        ],
        [
         "1958-04-05 00:00:00",
         "317.3"
        ],
        [
         "1958-04-12 00:00:00",
         "317.6"
        ],
        [
         "1958-04-19 00:00:00",
         "317.5"
        ],
        [
         "1958-04-26 00:00:00",
         "316.4"
        ]
       ],
       "shape": {
        "columns": 1,
        "rows": 5
       }
      },
      "text/plain": [
       "1958-03-29    316.1\n",
       "1958-04-05    317.3\n",
       "1958-04-12    317.6\n",
       "1958-04-19    317.5\n",
       "1958-04-26    316.4\n",
       "Freq: W-SAT, Name: co2, dtype: float64"
      ]
     },
     "execution_count": 20,
     "metadata": {},
     "output_type": "execute_result"
    }
   ],
   "source": [
    "co2_ts.head()"
   ]
  },
  {
   "cell_type": "code",
   "execution_count": 21,
   "id": "b22a814f",
   "metadata": {},
   "outputs": [
    {
     "data": {
      "application/vnd.microsoft.datawrangler.viewer.v0+json": {
       "columns": [
        {
         "name": "index",
         "rawType": "datetime64[ns]",
         "type": "datetime"
        },
        {
         "name": "co2",
         "rawType": "float64",
         "type": "float"
        }
       ],
       "ref": "15dc6a9a-ad90-4814-8581-a417b41c8b06",
       "rows": [
        [
         "1958-03-29 00:00:00",
         "316.1"
        ],
        [
         "1958-04-05 00:00:00",
         "317.3"
        ],
        [
         "1958-04-12 00:00:00",
         "317.6"
        ],
        [
         "1958-04-19 00:00:00",
         "317.5"
        ],
        [
         "1958-04-26 00:00:00",
         "316.4"
        ],
        [
         "1958-05-03 00:00:00",
         "316.9"
        ],
        [
         "1958-05-10 00:00:00",
         null
        ],
        [
         "1958-05-17 00:00:00",
         "317.5"
        ],
        [
         "1958-05-24 00:00:00",
         "317.9"
        ],
        [
         "1958-05-31 00:00:00",
         null
        ],
        [
         "1958-06-07 00:00:00",
         null
        ],
        [
         "1958-06-14 00:00:00",
         null
        ],
        [
         "1958-06-21 00:00:00",
         null
        ],
        [
         "1958-06-28 00:00:00",
         null
        ],
        [
         "1958-07-05 00:00:00",
         "315.8"
        ],
        [
         "1958-07-12 00:00:00",
         "315.8"
        ],
        [
         "1958-07-19 00:00:00",
         "315.4"
        ],
        [
         "1958-07-26 00:00:00",
         "315.5"
        ],
        [
         "1958-08-02 00:00:00",
         "315.6"
        ],
        [
         "1958-08-09 00:00:00",
         "315.1"
        ],
        [
         "1958-08-16 00:00:00",
         "315.0"
        ],
        [
         "1958-08-23 00:00:00",
         null
        ],
        [
         "1958-08-30 00:00:00",
         "314.1"
        ],
        [
         "1958-09-06 00:00:00",
         "313.5"
        ],
        [
         "1958-09-13 00:00:00",
         null
        ],
        [
         "1958-09-20 00:00:00",
         null
        ],
        [
         "1958-09-27 00:00:00",
         null
        ],
        [
         "1958-10-04 00:00:00",
         null
        ],
        [
         "1958-10-11 00:00:00",
         null
        ],
        [
         "1958-10-18 00:00:00",
         null
        ],
        [
         "1958-10-25 00:00:00",
         null
        ],
        [
         "1958-11-01 00:00:00",
         null
        ],
        [
         "1958-11-08 00:00:00",
         "313.0"
        ],
        [
         "1958-11-15 00:00:00",
         "313.2"
        ],
        [
         "1958-11-22 00:00:00",
         "313.5"
        ],
        [
         "1958-11-29 00:00:00",
         "314.0"
        ],
        [
         "1958-12-06 00:00:00",
         "314.5"
        ],
        [
         "1958-12-13 00:00:00",
         "314.4"
        ],
        [
         "1958-12-20 00:00:00",
         "314.7"
        ],
        [
         "1958-12-27 00:00:00",
         "315.2"
        ],
        [
         "1959-01-03 00:00:00",
         "315.2"
        ],
        [
         "1959-01-10 00:00:00",
         "315.5"
        ],
        [
         "1959-01-17 00:00:00",
         "315.6"
        ],
        [
         "1959-01-24 00:00:00",
         "315.8"
        ],
        [
         "1959-01-31 00:00:00",
         "315.4"
        ],
        [
         "1959-02-07 00:00:00",
         null
        ],
        [
         "1959-02-14 00:00:00",
         "316.9"
        ],
        [
         "1959-02-21 00:00:00",
         "316.6"
        ],
        [
         "1959-02-28 00:00:00",
         "316.6"
        ],
        [
         "1959-03-07 00:00:00",
         "316.8"
        ]
       ],
       "shape": {
        "columns": 1,
        "rows": 2284
       }
      },
      "text/plain": [
       "1958-03-29    316.1\n",
       "1958-04-05    317.3\n",
       "1958-04-12    317.6\n",
       "1958-04-19    317.5\n",
       "1958-04-26    316.4\n",
       "              ...  \n",
       "2001-12-01    370.3\n",
       "2001-12-08    370.8\n",
       "2001-12-15    371.2\n",
       "2001-12-22    371.3\n",
       "2001-12-29    371.5\n",
       "Freq: W-SAT, Name: co2, Length: 2284, dtype: float64"
      ]
     },
     "execution_count": 21,
     "metadata": {},
     "output_type": "execute_result"
    }
   ],
   "source": [
    "co2_ts"
   ]
  },
  {
   "cell_type": "code",
   "execution_count": 22,
   "id": "d7ce35ab",
   "metadata": {},
   "outputs": [
    {
     "name": "stdout",
     "output_type": "stream",
     "text": [
      "Mean: 340.1422471910112\n",
      "Median: 338.3\n",
      "Min: 313.0\n",
      "Max: 373.9\n",
      "Autocorrelation (lag=6): [nan nan nan nan nan nan]\n",
      "Autocorrelation (lag=12): [nan nan nan nan nan nan nan nan nan nan nan nan]\n"
     ]
    },
    {
     "data": {
      "image/png": "[encoded data removed]",
      "text/plain": [
       "<Figure size 1200x600 with 1 Axes>"
      ]
     },
     "metadata": {},
     "output_type": "display_data"
    },
    {
     "data": {
      "image/png": "[encoded data removed]",
      "text/plain": [
       "<Figure size 1200x600 with 1 Axes>"
      ]
     },
     "metadata": {},
     "output_type": "display_data"
    },
    {
     "data": {
      "image/png": "[encoded data removed]",
      "text/plain": [
       "<Figure size 1200x600 with 1 Axes>"
      ]
     },
     "metadata": {},
     "output_type": "display_data"
    }
   ],
   "source": [
    "ts_summary(co2_ts)"
   ]
  },
  {
   "cell_type": "markdown",
   "id": "3965c246",
   "metadata": {},
   "source": [
    "### Multivariate:\n",
    "> Choose 6 with more than 500 observations. Else create synthetyze the remaining ones."
   ]
  },
  {
   "cell_type": "code",
   "execution_count": 23,
   "id": "e03dde8e",
   "metadata": {},
   "outputs": [],
   "source": [
    "# Multivariate datasets\n"
   ]
  }
 ],
 "metadata": {
  "kernelspec": {
   "display_name": "Python 3",
   "language": "python",
   "name": "python3"
  },
  "language_info": {
   "codemirror_mode": {
    "name": "ipython",
    "version": 3
   },
   "file_extension": ".py",
   "mimetype": "text/x-python",
   "name": "python",
   "nbconvert_exporter": "python",
   "pygments_lexer": "ipython3",
   "version": "3.12.1"
  }
 },
 "nbformat": 4,
 "nbformat_minor": 5
}
